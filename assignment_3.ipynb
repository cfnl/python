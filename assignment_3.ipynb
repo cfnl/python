{
 "cells": [
  {
   "cell_type": "code",
   "execution_count": 1,
   "metadata": {},
   "outputs": [
    {
     "name": "stdout",
     "output_type": "stream",
     "text": [
      "Number won't divisable by 0\n"
     ]
    }
   ],
   "source": [
    "def exceptionHandler(num):\n",
    "    try:\n",
    "        r = num/0\n",
    "        print(\"Result : \"+ str(r))\n",
    "    except:\n",
    "        print(\"Number won't divisable by 0\")\n",
    "    \n",
    "exceptionHandler(5)"
   ]
  },
  {
   "cell_type": "code",
   "execution_count": 2,
   "metadata": {},
   "outputs": [
    {
     "name": "stdout",
     "output_type": "stream",
     "text": [
      "Americans play Baseball\n",
      "Americans play Cricket\n",
      "Americans watch Baseball\n",
      "Americans watch Cricket\n",
      "Indians play Baseball\n",
      "Indians play Cricket\n",
      "Indians watch Baseball\n",
      "Indians watch Cricket\n"
     ]
    }
   ],
   "source": [
    "subjects=[\"Americans\",\"Indians\"] \n",
    "verbs=[\"play\",\"watch\"] \n",
    "objects=[\"Baseball\",\"Cricket\"] \n",
    "for i in subjects:\n",
    "    for j in verbs:\n",
    "        for k in objects:\n",
    "            print(i + \" \" + j + \" \" + k)"
   ]
  },
  {
   "cell_type": "code",
   "execution_count": 3,
   "metadata": {},
   "outputs": [
    {
     "name": "stdout",
     "output_type": "stream",
     "text": [
      "[[ 1  1  1]\n",
      " [ 4  2  1]\n",
      " [ 9  3  1]\n",
      " [16  4  1]\n",
      " [25  5  1]]\n",
      "[[ 1  1  1]\n",
      " [ 1  2  4]\n",
      " [ 1  3  9]\n",
      " [ 1  4 16]\n",
      " [ 1  5 25]]\n"
     ]
    }
   ],
   "source": [
    "import numpy as np\n",
    "\n",
    "def gen_geometric_matrix(vector, n, booleanArg=False):\n",
    "    \n",
    "    if not booleanArg:\n",
    "        matrix = np.asmatrix([x**(n-1-i) for x in vector for i in range(n)]).reshape(vector.size,n)\n",
    "    elif booleanArg:\n",
    "        matrix = np.asmatrix([x**i for x in vector for i in range(n)]).reshape(vector.size,n)\n",
    "    return matrix\n",
    "\n",
    "vector = np.array([1,2,3,4,5])\n",
    "n = 3\n",
    "matrix1 = gen_geometric_matrix(vector,n,False)\n",
    "matrix2 = gen_geometric_matrix(vector,n,True)\n",
    "print(matrix1)\n",
    "print(matrix2)"
   ]
  },
  {
   "cell_type": "code",
   "execution_count": null,
   "metadata": {},
   "outputs": [],
   "source": []
  }
 ],
 "metadata": {
  "kernelspec": {
   "display_name": "Python 3",
   "language": "python",
   "name": "python3"
  },
  "language_info": {
   "codemirror_mode": {
    "name": "ipython",
    "version": 3
   },
   "file_extension": ".py",
   "mimetype": "text/x-python",
   "name": "python",
   "nbconvert_exporter": "python",
   "pygments_lexer": "ipython3",
   "version": "3.7.6"
  }
 },
 "nbformat": 4,
 "nbformat_minor": 4
}
