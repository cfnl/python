{
 "cells": [
  {
   "cell_type": "code",
   "execution_count": 1,
   "metadata": {},
   "outputs": [],
   "source": [
    "def myReduce(function,iterable):\n",
    "    iList = iterable\n",
    "    result = iterable[0]\n",
    "    for i in range(len(iterable)):\n",
    "        if(len(iList) != 1):\n",
    "            a, b = result, iList[1]\n",
    "            result = function(a,b)\n",
    "            iList.pop(0)\n",
    "        else:\n",
    "            break\n",
    "    return result"
   ]
  },
  {
   "cell_type": "code",
   "execution_count": 2,
   "metadata": {},
   "outputs": [
    {
     "data": {
      "text/plain": [
       "15"
      ]
     },
     "execution_count": 2,
     "metadata": {},
     "output_type": "execute_result"
    }
   ],
   "source": [
    "l = [1,2,3,4,5]\n",
    "myReduce(lambda x,y:x+y,l)"
   ]
  },
  {
   "cell_type": "code",
   "execution_count": 3,
   "metadata": {},
   "outputs": [],
   "source": [
    "def myFilter(function,iterable):\n",
    "    rList=[]\n",
    "    for i in range(len(iterable)):\n",
    "        if(function(iterable[i])):\n",
    "            rList.append(iterable[i])\n",
    "    return rList"
   ]
  },
  {
   "cell_type": "code",
   "execution_count": 4,
   "metadata": {},
   "outputs": [
    {
     "data": {
      "text/plain": [
       "[2, 4, 6, 8]"
      ]
     },
     "execution_count": 4,
     "metadata": {},
     "output_type": "execute_result"
    }
   ],
   "source": [
    "c = [1,2,3,4,5,6,7,8]\n",
    "list(myFilter(lambda x:x%2==0,c))"
   ]
  },
  {
   "cell_type": "code",
   "execution_count": 5,
   "metadata": {},
   "outputs": [
    {
     "data": {
      "text/plain": [
       "['P', 'Y', 'T', 'H', 'O', 'N']"
      ]
     },
     "execution_count": 5,
     "metadata": {},
     "output_type": "execute_result"
    }
   ],
   "source": [
    "w = \"PYTHON\"\n",
    "[w[i] for i in range(len(w))]"
   ]
  },
  {
   "cell_type": "code",
   "execution_count": 6,
   "metadata": {},
   "outputs": [
    {
     "data": {
      "text/plain": [
       "['x', 'xx', 'xxx', 'xxxx', 'y', 'yy', 'yyy', 'yyyy', 'z', 'zz', 'zzz', 'zzzz']"
      ]
     },
     "execution_count": 6,
     "metadata": {},
     "output_type": "execute_result"
    }
   ],
   "source": [
    "w=\"xyz\"\n",
    "from functools import reduce\n",
    "list(reduce(lambda x,y:x+y,[[w[i]] + [w[i]*2] + [w[i]*3] + [w[i]*4] for i in range(len(w))]))"
   ]
  },
  {
   "cell_type": "code",
   "execution_count": 7,
   "metadata": {},
   "outputs": [
    {
     "data": {
      "text/plain": [
       "['x', 'y', 'z', 'xx', 'yy', 'zz', 'xxx', 'yyy', 'zzz', 'xxxx', 'yyyy', 'zzzz']"
      ]
     },
     "execution_count": 7,
     "metadata": {},
     "output_type": "execute_result"
    }
   ],
   "source": [
    "w=\"xyz\"\n",
    "[w[i] for i in range(len(w))] + [w[i]*2 for i in range(len(w))] + [w[i]*3 for i in range(len(w))] + [w[i]*4 for i in range(len(w))]"
   ]
  },
  {
   "cell_type": "code",
   "execution_count": 8,
   "metadata": {},
   "outputs": [],
   "source": [
    "def findLongestWord(word):\n",
    "    countFlag = 0\n",
    "    longestWord = \"\"\n",
    "    for i in range(len(word)):\n",
    "        l = len(word[i])\n",
    "        if(l > countFlag):\n",
    "            countFlag = l\n",
    "            longestWord = word[i]\n",
    "        else:\n",
    "            continue\n",
    "    return longestWord"
   ]
  },
  {
   "cell_type": "code",
   "execution_count": 9,
   "metadata": {},
   "outputs": [
    {
     "data": {
      "text/plain": [
       "'python'"
      ]
     },
     "execution_count": 9,
     "metadata": {},
     "output_type": "execute_result"
    }
   ],
   "source": [
    "l=[\"c\",\"\",\"cpp\",\"java\",\"python\",\"scala\"]\n",
    "findLongestWord(l)"
   ]
  },
  {
   "cell_type": "code",
   "execution_count": 10,
   "metadata": {},
   "outputs": [],
   "source": [
    "class Zemotry:\n",
    "    def __init__(self,a,b,c):\n",
    "        self.a=a\n",
    "        self.b=b\n",
    "        self.c=c"
   ]
  },
  {
   "cell_type": "code",
   "execution_count": 11,
   "metadata": {},
   "outputs": [],
   "source": [
    "class Triangle(Zemotry):\n",
    "    def __init__(self, *arg):\n",
    "        super(Triangle,self).__init__(*arg)\n",
    "        \n",
    "    def calculateArea(self):\n",
    "        a = int(self.a)\n",
    "        b = int(self.b)\n",
    "        c = int(self.c)\n",
    "        s = (a+b+c)/2\n",
    "        area = (s*(s-a)*(s-b)*(s-c)) ** 0.5 \n",
    "        return area"
   ]
  },
  {
   "cell_type": "code",
   "execution_count": 12,
   "metadata": {},
   "outputs": [
    {
     "name": "stdout",
     "output_type": "stream",
     "text": [
      "42.42640687119285\n"
     ]
    }
   ],
   "source": [
    "z = Triangle(9,10,11)\n",
    "print(z.calculateArea())"
   ]
  },
  {
   "cell_type": "code",
   "execution_count": null,
   "metadata": {},
   "outputs": [],
   "source": [
    "def filter_long_words(word,length):\n",
    "    finalList = []\n",
    "    for i in range(len(word)):\n",
    "        l = len(word[i])\n",
    "        if(l > length):\n",
    "            finalList.append(word[i])\n",
    "        else:\n",
    "            continue\n",
    "    return finalList"
   ]
  },
  {
   "cell_type": "code",
   "execution_count": 2,
   "metadata": {},
   "outputs": [
    {
     "data": {
      "text/plain": [
       "['edaads', 'asfdaefsads', 'ewsdcaasc']"
      ]
     },
     "execution_count": 2,
     "metadata": {},
     "output_type": "execute_result"
    }
   ],
   "source": [
    "l=[\"sdss\",\"sff\",\"edaads\",\"asfdaefsads\",\"ewsdcaasc\"]\n",
    "filter_long_words(l,5)"
   ]
  },
  {
   "cell_type": "code",
   "execution_count": 3,
   "metadata": {},
   "outputs": [],
   "source": [
    "def lengthFunction(wordList):\n",
    "    return [len(wordList[i]) for i in range(len(wordList))]"
   ]
  },
  {
   "cell_type": "code",
   "execution_count": 4,
   "metadata": {},
   "outputs": [
    {
     "data": {
      "text/plain": [
       "[3, 5, 5, 11]"
      ]
     },
     "execution_count": 4,
     "metadata": {},
     "output_type": "execute_result"
    }
   ],
   "source": [
    "l=[\"scd\",\"fsdvs\",\"sdfsv\",\"sdfsdgrsdss\"]\n",
    "lengthFunction(l)"
   ]
  },
  {
   "cell_type": "code",
   "execution_count": 1,
   "metadata": {},
   "outputs": [],
   "source": [
    "def puzzel(chr):\n",
    "    v = ['a','e','i','o','u']\n",
    "    return chr.casefold() in v"
   ]
  },
  {
   "cell_type": "code",
   "execution_count": 2,
   "metadata": {},
   "outputs": [
    {
     "data": {
      "text/plain": [
       "True"
      ]
     },
     "execution_count": 2,
     "metadata": {},
     "output_type": "execute_result"
    }
   ],
   "source": [
    "puzzel(\"A\")"
   ]
  },
  {
   "cell_type": "code",
   "execution_count": null,
   "metadata": {},
   "outputs": [],
   "source": []
  }
 ],
 "metadata": {
  "kernelspec": {
   "display_name": "Python 3",
   "language": "python",
   "name": "python3"
  },
  "language_info": {
   "codemirror_mode": {
    "name": "ipython",
    "version": 3
   },
   "file_extension": ".py",
   "mimetype": "text/x-python",
   "name": "python",
   "nbconvert_exporter": "python",
   "pygments_lexer": "ipython3",
   "version": "3.7.6"
  }
 },
 "nbformat": 4,
 "nbformat_minor": 4
}
