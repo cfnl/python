{
 "cells": [
  {
   "cell_type": "code",
   "execution_count": 1,
   "metadata": {},
   "outputs": [
    {
     "name": "stdout",
     "output_type": "stream",
     "text": [
      "Thank you for this wonderful session!\n"
     ]
    }
   ],
   "source": [
    "print(\"Thank you for this wonderful session!\")"
   ]
  },
  {
   "cell_type": "code",
   "execution_count": 2,
   "metadata": {},
   "outputs": [
    {
     "name": "stdout",
     "output_type": "stream",
     "text": [
      "[2002, 2009, 2016, 2023, 2037, 2044, 2051, 2058, 2072, 2079, 2086, 2093, 2107, 2114, 2121, 2128, 2142, 2149, 2156, 2163, 2177, 2184, 2191, 2198, 2212, 2219, 2226, 2233, 2247, 2254, 2261, 2268, 2282, 2289, 2296, 2303, 2317, 2324, 2331, 2338, 2352, 2359, 2366, 2373, 2387, 2394, 2401, 2408, 2422, 2429, 2436, 2443, 2457, 2464, 2471, 2478, 2492, 2499, 2506, 2513, 2527, 2534, 2541, 2548, 2562, 2569, 2576, 2583, 2597, 2604, 2611, 2618, 2632, 2639, 2646, 2653, 2667, 2674, 2681, 2688, 2702, 2709, 2716, 2723, 2737, 2744, 2751, 2758, 2772, 2779, 2786, 2793, 2807, 2814, 2821, 2828, 2842, 2849, 2856, 2863, 2877, 2884, 2891, 2898, 2912, 2919, 2926, 2933, 2947, 2954, 2961, 2968, 2982, 2989, 2996, 3003, 3017, 3024, 3031, 3038, 3052, 3059, 3066, 3073, 3087, 3094, 3101, 3108, 3122, 3129, 3136, 3143, 3157, 3164, 3171, 3178, 3192, 3199]\n"
     ]
    }
   ],
   "source": [
    "intRange=range(2000,3200)\n",
    "intAry=[]\n",
    "for i in intRange:\n",
    "    if((i%7 == 0) and (i%5 != 0)):\n",
    "        intAry.append(i)\n",
    "        \n",
    "print(intAry)"
   ]
  },
  {
   "cell_type": "code",
   "execution_count": 3,
   "metadata": {},
   "outputs": [
    {
     "name": "stdin",
     "output_type": "stream",
     "text": [
      "First Name :  BISWANATH\n",
      "Last Name :  PRADHAN\n"
     ]
    },
    {
     "name": "stdout",
     "output_type": "stream",
     "text": [
      "HTANAWSIB NAHDARP\n"
     ]
    }
   ],
   "source": [
    "firstName = input(\"First Name : \")\n",
    "lastName = input(\"Last Name : \")\n",
    "print(firstName[::-1]+\" \"+lastName[::-1])"
   ]
  },
  {
   "cell_type": "code",
   "execution_count": 4,
   "metadata": {},
   "outputs": [
    {
     "name": "stdout",
     "output_type": "stream",
     "text": [
      "Volume : 904.608\n"
     ]
    }
   ],
   "source": [
    "diameter = 12\n",
    "radius = diameter/2\n",
    "pi = 3.141\n",
    "volum = 4/3*pi*(radius*radius*radius)\n",
    "print(\"Volume : \", end=\"\"),\n",
    "print(volum)"
   ]
  },
  {
   "cell_type": "code",
   "execution_count": 5,
   "metadata": {},
   "outputs": [
    {
     "name": "stdin",
     "output_type": "stream",
     "text": [
      "Input :  1,2,3,4,5,6,7,8,9\n"
     ]
    },
    {
     "name": "stdout",
     "output_type": "stream",
     "text": [
      "[1, 2, 3, 4, 5, 6, 7, 8, 9]\n"
     ]
    }
   ],
   "source": [
    "inputString = input(\"Input : \")\n",
    "list = inputString.split(\",\")\n",
    "resAry = []\n",
    "for i in list:\n",
    "    resAry.append(int(i))\n",
    "print(resAry)"
   ]
  },
  {
   "cell_type": "code",
   "execution_count": 6,
   "metadata": {},
   "outputs": [
    {
     "name": "stdin",
     "output_type": "stream",
     "text": [
      "Size :  5\n"
     ]
    },
    {
     "name": "stdout",
     "output_type": "stream",
     "text": [
      "\n",
      "\n",
      "* \n",
      "\n",
      "* * \n",
      "\n",
      "* * * \n",
      "\n",
      "* * * * \n",
      "\n",
      "* * * * * \n",
      "\n",
      "* * * * \n",
      "\n",
      "* * * \n",
      "\n",
      "* * \n",
      "\n",
      "* \n",
      "\n"
     ]
    }
   ],
   "source": [
    "siz = int(input(\"Size : \"))\n",
    "for i in range(0, siz, 1):\n",
    "    for i in range(i):\n",
    "        print(\"*\", end=\" \")\n",
    "    print(\"\\n\")\n",
    "for j in range(siz, 0, -1):\n",
    "        for j in range(j):\n",
    "            print(\"*\", end=\" \")\n",
    "        print(\"\\n\")"
   ]
  },
  {
   "cell_type": "code",
   "execution_count": 7,
   "metadata": {},
   "outputs": [
    {
     "name": "stdin",
     "output_type": "stream",
     "text": [
      "Data :  JupyterLab\n"
     ]
    },
    {
     "name": "stdout",
     "output_type": "stream",
     "text": [
      "baLretypuJ\n"
     ]
    }
   ],
   "source": [
    "print(input(\"Data : \")[::-1])"
   ]
  },
  {
   "cell_type": "code",
   "execution_count": 8,
   "metadata": {},
   "outputs": [
    {
     "name": "stdout",
     "output_type": "stream",
     "text": [
      "WE, THE PEOPLE OF INDIA,\n",
      "\thaving solemnly resolved to constitute India into a SOVEREIGN, \n",
      "\t\tSOCIALIST, SECULAR, DEMOCRATIC REPUBLIC \n",
      "\t\tand to secure to all its citizens\n"
     ]
    }
   ],
   "source": [
    "print(\"WE, THE PEOPLE OF INDIA,\\n\\thaving solemnly resolved to constitute India into a SOVEREIGN, \\n\\t\\tSOCIALIST, SECULAR, DEMOCRATIC REPUBLIC \\n\\t\\tand to secure to all its citizens\")"
   ]
  },
  {
   "cell_type": "code",
   "execution_count": null,
   "metadata": {},
   "outputs": [],
   "source": []
  }
 ],
 "metadata": {
  "kernelspec": {
   "display_name": "Python 3",
   "language": "python",
   "name": "python3"
  },
  "language_info": {
   "codemirror_mode": {
    "name": "ipython",
    "version": 3
   },
   "file_extension": ".py",
   "mimetype": "text/x-python",
   "name": "python",
   "nbconvert_exporter": "python",
   "pygments_lexer": "ipython3",
   "version": "3.7.6"
  }
 },
 "nbformat": 4,
 "nbformat_minor": 4
}
